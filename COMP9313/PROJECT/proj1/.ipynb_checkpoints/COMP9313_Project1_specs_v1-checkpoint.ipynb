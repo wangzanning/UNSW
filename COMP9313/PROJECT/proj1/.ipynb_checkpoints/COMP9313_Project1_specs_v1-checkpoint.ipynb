{
 "cells": [
  {
   "cell_type": "markdown",
   "metadata": {},
   "source": [
    "# Deadline + Late Penalty\n",
    "\n",
    "**Note :** It will take you quite some time to complete this project, therefore, we earnestly recommend that you start working as early as possible.\n",
    "\n",
    "\n",
    "* Submission deadline for the Project is **20:59:59 on 18th Jul, 2020** (Sydney Time).\n",
    "* **LATE PENALTY: 10% on day-1 and 30% on each subsequent day.**"
   ]
  },
  {
   "cell_type": "markdown",
   "metadata": {},
   "source": [
    "# Instructions\n",
    "1. This note book contains instructions for **COMP9313 Project 1**.\n",
    "\n",
    "* You are required to complete your implementation in the file `submission.py` provided along with this notebook.\n",
    "\n",
    "* You are not allowed to print out unnecessary stuff. We will not consider any output printed out on the screen. All results should be returned in appropriate data structures via corresponding functions.\n",
    "\n",
    "* You are required to submit the following files, via CSE `give`: \n",
    "    - (i)`submission.py`(your code), \n",
    "    - (ii)`report.pdf` (illustrating your implementation details)\n",
    "    - **Note:** detailed submission instructions will be announced later.\n",
    "\n",
    "* We provide you with detailed instructions of the project in this notebook. In case of any problem, you can post your query @Piazza. Please do not post questions regarding the implementation details.\n",
    "\n",
    "* You are allowed to add other functions and/or import modules (you may have to for this project), but you are not allowed to define global variables. **All the functions should be implemented in `submission.py`**. \n",
    "\n",
    "* In this project, you may need to **CREATE YOUR OWN TEST CASES** in order to evaluate the correctness, while at the same time improving the efficiency of your implementation. **DO NOT COMPLETELY RELY ON THE TOY EXAMPLE IN THE SPEC!**\n",
    "  * In order to create your own test cases, you are expected to use real datasets or randomly generated data, and generate hash functions by yourself.\n",
    "\n",
    "* The testing environment is the same as that of `Lab1`. **Note:** Importing other modules (not a part of the Lab1 test environment) may lead to errors, which will result in **ZERO score for the ENTIRE Project**.\n",
    "\n",
    "\n",
    "* After completing the project, the students are **ENCOURAGED** to attempt for **BONUS** part. Detailed instructions for the **BONUS** part are given in the later part of this notebook."
   ]
  },
  {
   "cell_type": "markdown",
   "metadata": {},
   "source": [
    "# Task1: C2LSH (90 points)\n",
    "\n",
    "In this question, you will implement the C2LSH algorithm in Pyspark. Specifically, you are required to write a method `c2lsh()` in the file `submission.py` that takes the following four arguments as input:\n",
    "\n",
    "1. **data_hashes**: is a rdd where each element (i.e., key,value pairs) in this rdd corresponds to (id, data_hash). `id` is an integer and `data_hash` is a python list that contains $m$ integers (i.e., hash values of the data point).\n",
    "* **query_hashes** is a python list that contains $m$ integers (i.e., hash values of the query).\n",
    "* **alpha_m** is an integer which indicates the minimum number of collide hash values between data and query (i.e., $\\alpha m$).\n",
    "* **beta_n** is an integer which indicates the minimum number of candidates to be returned (i.e., $\\beta n$).\n",
    "\n",
    "**Note:**\n",
    "1. You don't need to implement hash functions and generate hashed data, we will provide the data hashes for you.\n",
    "2. Please follow **the description of the algorithm provided in the lecture notes**, which is slightly different to the original C2LSH paper. \n",
    "3. While one of the main purposes of this project is to use spark to solve the problems. Therefore, it is meaningless to circumvent pyspark and do it in other ways (e.g., collect the data and implement the algorithm without transformations etc.). Any such attempt will be considered as a invalid implementation, hence will be assigned **ZERO** score. For example, you are not allowed to use the following PySpark functions:\n",
    "  * `aggregate`, `treeAggregate`，`aggregateByKey`\n",
    "  * `collect`, `collectAsMap`\n",
    "  * `countByKey`， `countByValue`\n",
    "  * `foreach`, `foreachPartition`\n",
    "  * `reduce`, `treeReduce`, `reduceByKeyLocallly`\n",
    "  * `saveAs*` (e.g. `saveAsTextFile`)\n",
    "  * `take*` (e.g. `take`, `takeOrdered`)\n",
    "  * `top`\n",
    "  * `fold`\n",
    "  * `toLocalIterator`\n",
    "  * `lookup`\n",
    "  * `checkpoint`, `localCheckpoint`\n",
    "  * `getOrCreate`"
   ]
  },
  {
   "cell_type": "markdown",
   "metadata": {},
   "source": [
    "## Return Format\n",
    "\n",
    "The `c2lsh()` method returns a `rdd` which contains a sequence of candidate id's.\n",
    "\n",
    "**Notice: The order of the elements in the list does not matter (e.g., we will collect the elements and evaluate them as a set).**"
   ]
  },
  {
   "cell_type": "markdown",
   "metadata": {},
   "source": [
    "## Evaluation\n",
    "\n",
    "Your implementation will be tested using 3 different test cases. We will be evaluating based on the following factors:\n",
    "* the correctness of implemented `c2lsh()`. The output will be compared with the result from the correct implementation. Any difference will be considered as incorrect.\n",
    "* the efficiency of your implmentation. We will calculate the running time of `c2lsh()` in each testcase (denoted as $T$).\n",
    "\n",
    "For each testcase (worth 30 points), the following marking criteria will be used:\n",
    "* **Case 1, 0 points**: the returned `rdd` is incorrect, or $T > T_1$\n",
    "* **Case 2, 10 points**: the returned `rdd` is correct, and $T_1 \\geq T > T_2$,\n",
    "* **Case 3, 20 points**: the returned `rdd` is correct, and $T_2 \\geq T > T_3$,\n",
    "* **Case 4, 30 points**: the returned `rdd` is correct, and $T_3 \\geq T$.\n",
    "\n",
    "Where $T_1 > T_2 > T_3$ depend on the testing environment and the test cases."
   ]
  },
  {
   "cell_type": "markdown",
   "metadata": {},
   "source": [
    "# Task 2: Report (10 points)\n",
    "You are also required to submit your project report, named: `report.pdf`. Specifically, in the report, you are at least expected to answer the following questions:\n",
    "1. Implementation details of your `c2lsh()`. Explain how your major transform function works.\n",
    "2. Show the evaluation result of your implementation using **your own test cases**.\n",
    "3. What did you do to improve the efficiency of your implementation?"
   ]
  },
  {
   "cell_type": "markdown",
   "metadata": {},
   "source": [
    "# Bonus\n",
    "\n",
    "In order to encourage the students to come up with efficient implementations, we allow bonus part of the project with a maximum of 20 points. Rules for the **BONUS** part are as under:\n",
    " * Prerequisites:\n",
    "   1. You must have obtained **90 points** for the implementation part. \n",
    "   2. The **total running time** of your implementation for the three test cases is among the top-50 smallest running times of the class. \n",
    " * All the submissions, satisfying the above-mentioned conditions will be tested against a more challenging dataset. Top-20 most-efficient and correct implementations will be awarded the bonus scores.\n",
    " * We will rank the top-20 implementations in an increasing order w.r.t the running time. We will award 20 points to the most efficient implementation (i.e., the one with smallest running time), 19 points to the 2nd most efficient one, and so on. The implementation ranked 20-th on the list will get 1 bonus point."
   ]
  },
  {
   "cell_type": "markdown",
   "metadata": {},
   "source": [
    "# How to execute your implementation (EXAMPLE)"
   ]
  },
  {
   "cell_type": "code",
   "execution_count": 1,
   "metadata": {
    "scrolled": true
   },
   "outputs": [
    {
     "name": "stdout",
     "output_type": "stream",
     "text": [
      "Number of candidate:  10\n",
      "set of candidate:  {0, 70, 40, 10, 80, 50, 20, 90, 60, 30}\n"
     ]
    }
   ],
   "source": [
    "from pyspark import SparkContext, SparkConf\n",
    "from time import time\n",
    "import pickle\n",
    "import submission\n",
    "\n",
    "def createSC():\n",
    "    conf = SparkConf()\n",
    "    conf.setMaster(\"local[*]\")\n",
    "    conf.setAppName(\"C2LSH\")\n",
    "    sc = SparkContext(conf = conf)\n",
    "    return sc\n",
    "\n",
    "with open(\"toy/toy_hashed_data\", \"rb\") as file:\n",
    "    data = pickle.load(file)\n",
    "\n",
    "with open(\"toy/toy_hashed_query\", \"rb\") as file:\n",
    "    query_hashes = pickle.load(file)\n",
    "\n",
    "alpha_m  = 10\n",
    "beta_n = 10\n",
    "\n",
    "sc = createSC()\n",
    "data_hashes = sc.parallelize([(index, x) for index, x in enumerate(data)])\n",
    "start_time = time()\n",
    "res = submission.c2lsh(data_hashes, query_hashes, alpha_m, beta_n).collect()\n",
    "end_time = time()\n",
    "sc.stop()\n",
    "\n",
    "# print('running time:', end_time - start_time)\n",
    "print('Number of candidate: ', len(res))\n",
    "print('set of candidate: ', set(res))"
   ]
  },
  {
   "cell_type": "markdown",
   "metadata": {},
   "source": [
    "# Project Submission and Feedback\n",
    "\n",
    "For the project submission, you are required to submit the following files:\n",
    "\n",
    "1. Your implementation in the python file `submission.py`.\n",
    "2. The report `report.pdf`.\n",
    "\n",
    "Detailed instruction about using `give` to submit the project files will be announced later via Piazza."
   ]
  },
  {
   "cell_type": "code",
   "execution_count": null,
   "metadata": {},
   "outputs": [],
   "source": []
  }
 ],
 "metadata": {
  "kernel_info": {
   "name": "python3"
  },
  "kernelspec": {
   "display_name": "Python 3",
   "language": "python",
   "name": "python3"
  },
  "language_info": {
   "codemirror_mode": {
    "name": "ipython",
    "version": 3
   },
   "file_extension": ".py",
   "mimetype": "text/x-python",
   "name": "python",
   "nbconvert_exporter": "python",
   "pygments_lexer": "ipython3",
   "version": "3.7.6"
  },
  "nteract": {
   "version": "0.12.3"
  }
 },
 "nbformat": 4,
 "nbformat_minor": 2
}
