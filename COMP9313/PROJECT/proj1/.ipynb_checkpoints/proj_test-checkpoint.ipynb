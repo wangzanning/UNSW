{
 "cells": [
  {
   "cell_type": "markdown",
   "metadata": {},
   "source": [
    "### Notice: this test case is only for testing correctness rather than performance."
   ]
  },
  {
   "cell_type": "code",
   "execution_count": 1,
   "metadata": {},
   "outputs": [
    {
     "name": "stdout",
     "output_type": "stream",
     "text": [
      "Number of candidate:  11\n",
      "set of candidate:  {161, 34, 68, 139, 492, 461, 303, 401, 307, 248, 447}\n"
     ]
    }
   ],
   "source": [
    "from pyspark import SparkContext, SparkConf\n",
    "from time import time\n",
    "import pickle\n",
    "import submission\n",
    "def createSC():\n",
    "    conf = SparkConf()\n",
    "    conf.setMaster(\"local[*]\")\n",
    "    conf.setAppName(\"C2LSH\")\n",
    "    sc = SparkContext(conf = conf)\n",
    "    return sc\n",
    "\n",
    "with open(\"hashed_data\", \"rb\") as file:\n",
    "    data = pickle.load(file)\n",
    "\n",
    "with open(\"hashed_query\", \"rb\") as file:\n",
    "    query_hashes = pickle.load(file)\n",
    "\n",
    "alpha_m = 20\n",
    "beta_n = 10\n",
    "\n",
    "length = len(data) - 1\n",
    "sc = createSC()\n",
    "data_hashes = sc.parallelize([(length - index, x) for index, x in enumerate(data)])\n",
    "res = submission.c2lsh(data_hashes, query_hashes, alpha_m, beta_n).collect()\n",
    "sc.stop()\n",
    "\n",
    "print('Number of candidate: ', len(res))\n",
    "print('set of candidate: ', set(res))"
   ]
  },
  {
   "cell_type": "code",
   "execution_count": null,
   "metadata": {},
   "outputs": [],
   "source": []
  }
 ],
 "metadata": {
  "kernelspec": {
   "display_name": "Python 3",
   "language": "python",
   "name": "python3"
  },
  "language_info": {
   "codemirror_mode": {
    "name": "ipython",
    "version": 3
   },
   "file_extension": ".py",
   "mimetype": "text/x-python",
   "name": "python",
   "nbconvert_exporter": "python",
   "pygments_lexer": "ipython3",
   "version": "3.7.6"
  }
 },
 "nbformat": 4,
 "nbformat_minor": 4
}
