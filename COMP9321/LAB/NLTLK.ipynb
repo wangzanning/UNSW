{
 "cells": [
  {
   "cell_type": "code",
   "execution_count": 1,
   "id": "surface-summary",
   "metadata": {},
   "outputs": [
    {
     "name": "stderr",
     "output_type": "stream",
     "text": [
      "[nltk_data] Downloading package punkt to\n",
      "[nltk_data]     C:\\Users\\morta\\AppData\\Roaming\\nltk_data...\n",
      "[nltk_data]   Package punkt is already up-to-date!\n",
      "[nltk_data] Downloading package wordnet to\n",
      "[nltk_data]     C:\\Users\\morta\\AppData\\Roaming\\nltk_data...\n",
      "[nltk_data]   Package wordnet is already up-to-date!\n",
      "[nltk_data] Downloading package averaged_perceptron_tagger to\n",
      "[nltk_data]     C:\\Users\\morta\\AppData\\Roaming\\nltk_data...\n",
      "[nltk_data]   Package averaged_perceptron_tagger is already up-to-\n",
      "[nltk_data]       date!\n"
     ]
    }
   ],
   "source": [
    "import nltk\n",
    "nltk.download('punkt')\n",
    "nltk.download('wordnet')\n",
    "nltk.download('averaged_perceptron_tagger')\n",
    "from nltk import sent_tokenize, word_tokenize\n",
    "from nltk.tag import pos_tag\n",
    "from nltk.stem.snowball import SnowballStemmer\n",
    "from nltk.stem.wordnet import WordNetLemmatizer\n",
    "from nltk.corpus import stopwords\n",
    "import pandas as pd\n",
    "import numpy as np\n",
    "import re "
   ]
  },
  {
   "cell_type": "code",
   "execution_count": 2,
   "id": "finnish-bottom",
   "metadata": {},
   "outputs": [
    {
     "name": "stdout",
     "output_type": "stream",
     "text": [
      "['Hi', 'James', ',', 'Here', 'are', 'some', 'stats', 'on', 'in', 'the', 'first', 'term', 'of', '2018', 'sales', 'in', 'Australia', '.', 'Up', 'by', '20', '%', 'on', 'last', 'year', 'for', 'our', 'end', 'point', 'solutions', '(', 'backup', 'solutions', 'sales', 'ranking', 'highest', ')', '.', 'And', 'corporate', 'solutions', 'sales', 'is', 'up', 'by', '30', '%', '!', '!', 'Vulnerability', 'scanning', 'solutions', 'ranking', 'highest', '.']\n"
     ]
    }
   ],
   "source": [
    "sentences = \" Hi James, Here are some stats on in the first term of 2018 sales in Australia. Up by 20% on last year for our end point solutions(backup solutions sales ranking highest). And corporate solutions sales is up by 30% !! Vulnerability scanning solutions ranking highest.\"\n",
    "words = word_tokenize(sentences)\n",
    "print(words)"
   ]
  },
  {
   "cell_type": "code",
   "execution_count": 4,
   "id": "determined-chrome",
   "metadata": {},
   "outputs": [
    {
     "name": "stdout",
     "output_type": "stream",
     "text": [
      "found one\n",
      "found one\n"
     ]
    }
   ],
   "source": [
    "for x in words:\n",
    "    if x == '%':\n",
    "        print ('found one')"
   ]
  },
  {
   "cell_type": "code",
   "execution_count": 5,
   "id": "related-morris",
   "metadata": {},
   "outputs": [],
   "source": [
    "recog = nltk.pos_tag(words)"
   ]
  },
  {
   "cell_type": "code",
   "execution_count": 6,
   "id": "interpreted-afghanistan",
   "metadata": {},
   "outputs": [
    {
     "data": {
      "text/plain": [
       "[('Hi', 'NNP'),\n",
       " ('James', 'NNP'),\n",
       " (',', ','),\n",
       " ('Here', 'RB'),\n",
       " ('are', 'VBP'),\n",
       " ('some', 'DT'),\n",
       " ('stats', 'NNS'),\n",
       " ('on', 'IN'),\n",
       " ('in', 'IN'),\n",
       " ('the', 'DT'),\n",
       " ('first', 'JJ'),\n",
       " ('term', 'NN'),\n",
       " ('of', 'IN'),\n",
       " ('2018', 'CD'),\n",
       " ('sales', 'NNS'),\n",
       " ('in', 'IN'),\n",
       " ('Australia', 'NNP'),\n",
       " ('.', '.'),\n",
       " ('Up', 'NNP'),\n",
       " ('by', 'IN'),\n",
       " ('20', 'CD'),\n",
       " ('%', 'NN'),\n",
       " ('on', 'IN'),\n",
       " ('last', 'JJ'),\n",
       " ('year', 'NN'),\n",
       " ('for', 'IN'),\n",
       " ('our', 'PRP$'),\n",
       " ('end', 'NN'),\n",
       " ('point', 'NN'),\n",
       " ('solutions', 'NNS'),\n",
       " ('(', '('),\n",
       " ('backup', 'JJ'),\n",
       " ('solutions', 'NNS'),\n",
       " ('sales', 'NNS'),\n",
       " ('ranking', 'VBG'),\n",
       " ('highest', 'JJS'),\n",
       " (')', ')'),\n",
       " ('.', '.'),\n",
       " ('And', 'CC'),\n",
       " ('corporate', 'JJ'),\n",
       " ('solutions', 'NNS'),\n",
       " ('sales', 'NNS'),\n",
       " ('is', 'VBZ'),\n",
       " ('up', 'RB'),\n",
       " ('by', 'IN'),\n",
       " ('30', 'CD'),\n",
       " ('%', 'NN'),\n",
       " ('!', '.'),\n",
       " ('!', '.'),\n",
       " ('Vulnerability', 'NNP'),\n",
       " ('scanning', 'VBG'),\n",
       " ('solutions', 'NNS'),\n",
       " ('ranking', 'VBG'),\n",
       " ('highest', 'JJS'),\n",
       " ('.', '.')]"
      ]
     },
     "execution_count": 6,
     "metadata": {},
     "output_type": "execute_result"
    }
   ],
   "source": [
    "recog"
   ]
  },
  {
   "cell_type": "code",
   "execution_count": null,
   "id": "municipal-figure",
   "metadata": {},
   "outputs": [],
   "source": []
  }
 ],
 "metadata": {
  "kernelspec": {
   "display_name": "Python 3",
   "language": "python",
   "name": "python3"
  },
  "language_info": {
   "codemirror_mode": {
    "name": "ipython",
    "version": 3
   },
   "file_extension": ".py",
   "mimetype": "text/x-python",
   "name": "python",
   "nbconvert_exporter": "python",
   "pygments_lexer": "ipython3",
   "version": "3.7.9"
  }
 },
 "nbformat": 4,
 "nbformat_minor": 5
}
