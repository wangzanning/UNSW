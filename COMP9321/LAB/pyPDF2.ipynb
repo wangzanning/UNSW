{
 "cells": [
  {
   "cell_type": "code",
   "execution_count": 1,
   "id": "exciting-values",
   "metadata": {},
   "outputs": [],
   "source": [
    "from PyPDF2 import PdfFileReader\n",
    "pdf_path='CV.pdf' #put a PDF file you want to read here\n",
    "pdf = PdfFileReader(str(pdf_path))"
   ]
  },
  {
   "cell_type": "code",
   "execution_count": 2,
   "id": "functional-hierarchy",
   "metadata": {},
   "outputs": [
    {
     "name": "stdout",
     "output_type": "stream",
     "text": [
      "<PyPDF2.pdf.PdfFileReader object at 0x0000015E954F67C8>\n"
     ]
    }
   ],
   "source": [
    "print(pdf)"
   ]
  },
  {
   "cell_type": "code",
   "execution_count": 3,
   "id": "neither-spectrum",
   "metadata": {},
   "outputs": [
    {
     "data": {
      "text/plain": [
       "2"
      ]
     },
     "execution_count": 3,
     "metadata": {},
     "output_type": "execute_result"
    }
   ],
   "source": [
    "pdf.getNumPages()"
   ]
  },
  {
   "cell_type": "code",
   "execution_count": 4,
   "id": "satisfied-affect",
   "metadata": {},
   "outputs": [
    {
     "data": {
      "text/plain": [
       "{'/Creator': 'Microsoft® Word for Microsoft 365',\n",
       " '/CreationDate': \"D:20210120112841+11'00'\",\n",
       " '/ModDate': \"D:20210120112841+11'00'\",\n",
       " '/Producer': 'Microsoft® Word for Microsoft 365'}"
      ]
     },
     "execution_count": 4,
     "metadata": {},
     "output_type": "execute_result"
    }
   ],
   "source": [
    "pdf.documentInfo"
   ]
  },
  {
   "cell_type": "code",
   "execution_count": 4,
   "id": "opened-samuel",
   "metadata": {},
   "outputs": [
    {
     "data": {
      "text/plain": [
       "'Morty Al\\n-\\nBanna\\n \\nInformation Technology and Security Professional\\n \\nContact\\n \\ne: \\nmortadaalbanna@gmail.com\\n \\nm: \\n0410162236\\n \\nhttps://www.linkedin.com/in/mortada\\n-\\nal\\n-\\nbanna\\n \\n \\nIT professional with over \\n7\\n \\nyears of experience in Information Technology \\nand cyber security. \\nP\\nassionate about \\nfinding\\n \\ninnovative methods to improve \\nthe security of software systems (crowdsourcing security, using machine \\nlearning\\n \\nto automate security tasks\\n, \\ncognitive services for\\n \\ncy\\nber security \\nintelligence\\n). \\nE\\nager to identify and solve challenging problems, design new \\nsystems, and collaborate with brilliant people. \\n \\nPROFESSIONAL EXPERIENCE\\n \\n \\nResearch Associate and Academic\\n,\\n \\nUNSW Australia\\n \\n(\\n2018 \\n-\\npresent\\n)\\n \\nResearching cyber \\nsecurity topics and lectur\\ner in charge for\\n \\nboth \\nundergraduates\\n\\n \\nand \\n\\n:\\n \\n\\n \\nR\\nesearch\\ning the\\n \\nCyber Security Intelligence topic. The purpose of the research \\nproject is building cognitive services that would facilitate the aggregation of cyber \\nsecurity information from multiple sources and the dissemination to the users in \\na\\nn\\n \\neasy to digest and int\\neractive manner.\\n \\n\\n \\nLecturing Data \\nServices\\n \\nEngineering COMP9321 course in CSE, UNSW where \\nI\\n \\nteach students to: work with data using Python, Pandas, Numpy; publish\\ning\\n \\ndata \\nsecurely \\nas a REST API using Fl\\na\\nsk; and apply \\nmachine learning\\n \\nwith\\n \\nscikit\\n-\\nlearn\\n.\\n \\nCasua\\nl Academic, UNSW Australia \\n(\\n2014\\n-\\n2018\\n)\\n \\nTutor, Mentor and Course Administrator\\n \\n\\n \\nMentoring students in \\nproject\\n-\\nbased\\n \\ncourses and acting as the scrum master for \\nthe team.\\n \\n\\n \\nCourse admin for many courses\\n. Organizing the course activities and \\ncoordinating \\nwith the students, tutors, guest lecturers and university staff.\\n \\nIT Manager/Deputy IT Director, \\nCapital Bank group/National Bank \\nof Iraq\\n \\n(\\n20\\n1\\n0\\n-\\n1\\n3\\n)\\n \\nAccountable for the\\n \\nBank wide \\nIT environment:\\n \\n\\n \\nLed \\nthe\\n \\ninterbranch \\nnetwork \\nupgrade\\n \\nproject\\n.\\n \\n\\n \\nLed\\n \\nthe IT infrastructure \\nupgrade\\n \\nproject implementing Active \\nD\\nirectory services, \\nFTMG\\n,\\n \\nand file servers\\n.\\n \\n\\n \\nDeveloped\\n \\nthe IT strategy for the years 2011\\n-\\n2013\\n.\\n \\n\\n \\nUsed tools like SolarWinds Security Event manager for monitoring and detection\\n.\\n \\n\\n \\nEstablish\\ned\\n \\nthe Incident Response lifecycle \\nusing NIST 800\\n-\\n61 guide\\n \\n\\n \\nMaintained \\n\\n.\\n \\n\\n \\nPerformed\\n \\ntechnology vendors management (Infrastructure, banking system \\nsupport, card services)\\n \\nSystem \\nAdministrator\\n, \\nTrade Bank of Iraq\\n \\n(\\n20\\n09\\n-\\n1\\n0\\n)\\n \\n\\n \\nLed the\\n \\nMysis \\nEquation \\nB\\nranch \\nA\\nutomation (EBA) project implementation, \\nand \\nAD project implementation\\n.\\n \\n\\n \\nInvolved in the \\nplanning and initiation\\n \\nof TBI regional DR site and data recovery \\nappliance\\ns\\n.\\n \\n\\n \\nAdministrating M\\nysis Equation, EBA, MM4 and TI+ systems.\\n \\n\\n \\nDeveloping and implementing the Core banking system security policy\\n \\n\\n \\nAuditing and revision of the information security policies.\\n \\nSKILLS\\n \\n \\n \\nKnowledge in Software Systems \\nVulnerabilities.\\n \\nKnowledge in \\nVulnerability Responsible \\nDisclosure (ISO/IEC 29147) \\n \\nKnowledge in V\\nulnerability management \\n(ISO 27001 control A.12.6.1).\\n \\nFamiliar with various security tools \\nframeworks and services (e.g., \\nnmap, \\nMitre Att&ck, Burp Suite, VirusTotal, and \\nMaltego)\\n \\nExperience working with SI\\nE\\nM solutions \\n(Solar Winds Security Event manager and \\nAlien Vault OSSIM\\n)\\n \\nExperience working with firewalls (Cisco \\nASA) and endpoint security solutions \\n(\\nMcAfee Endpoint Security\\n)\\n \\nLinux and Windows Systems \\nAdministration\\n \\nWaterfall\\n \\n/ \\nagile delivery methodology\\n \\nData Analysis & Machine Learning\\n \\nConversational AI (ChatBots)\\n \\nHIGHLIGHTS\\n \\n \\nPerceived a disaster as opportunities as I \\nhave taken charge of some university \\ncourses with student satisfaction level less \\nthan 60%\\n \\nand turned it to \\nover 90% \\nsatisfaction.\\n \\nAutomated course administration tasks \\nusing cognitive services and \\ncontainerization technologies.\\n \\nLed \\ninfrastructure\\n \\nprojects in banks and \\ntelecommunication \\n \\nAssessed Information Technology \\nenvironments\\n \\nand provided actions plans \\nand\\n \\nroad maps\\n \\nSOA and Microservices Enthusiast\\n \\n \\n \\n'"
      ]
     },
     "execution_count": 4,
     "metadata": {},
     "output_type": "execute_result"
    }
   ],
   "source": [
    "first_page = pdf.getPage(0)\n",
    "first_page.extractText()"
   ]
  },
  {
   "cell_type": "code",
   "execution_count": 7,
   "id": "lightweight-whale",
   "metadata": {},
   "outputs": [
    {
     "name": "stderr",
     "output_type": "stream",
     "text": [
      "[nltk_data] Downloading package punkt to\n",
      "[nltk_data]     C:\\Users\\morta\\AppData\\Roaming\\nltk_data...\n",
      "[nltk_data]   Package punkt is already up-to-date!\n",
      "[nltk_data] Downloading package wordnet to\n",
      "[nltk_data]     C:\\Users\\morta\\AppData\\Roaming\\nltk_data...\n",
      "[nltk_data]   Package wordnet is already up-to-date!\n"
     ]
    },
    {
     "name": "stdout",
     "output_type": "stream",
     "text": [
      "['Morty', 'Al', '-', 'Banna', 'Information', 'Technology', 'and', 'Security', 'Professional', 'Contact', 'e', ':', 'mortadaalbanna', '@', 'gmail.com', 'm', ':', '0410162236', 'https', ':', '//www.linkedin.com/in/mortada', '-', 'al', '-', 'banna', 'IT', 'professional', 'with', 'over', '7', 'years', 'of', 'experience', 'in', 'Information', 'Technology', 'and', 'cyber', 'security', '.', 'P', 'assionate', 'about', 'finding', 'innovative', 'methods', 'to', 'improve', 'the', 'security', 'of', 'software', 'systems', '(', 'crowdsourcing', 'security', ',', 'using', 'machine', 'learning', 'to', 'automate', 'security', 'tasks', ',', 'cognitive', 'services', 'for', 'cy', 'ber', 'security', 'intelligence', ')', '.', 'E', 'ager', 'to', 'identify', 'and', 'solve', 'challenging', 'problems', ',', 'design', 'new', 'systems', ',', 'and', 'collaborate', 'with', 'brilliant', 'people', '.', 'PROFESSIONAL', 'EXPERIENCE', 'Research', 'Associate', 'and', 'Academic', ',', 'UNSW', 'Australia', '(', '2018', '-', 'present', ')', 'Researching', 'cyber', 'security', 'topics', 'and', 'lectur', 'er', 'in', 'charge', 'for', 'both', 'undergraduates', 'and', ':', 'R', 'esearch', 'ing', 'the', 'Cyber', 'Security', 'Intelligence', 'topic', '.', 'The', 'purpose', 'of', 'the', 'research', 'project', 'is', 'building', 'cognitive', 'services', 'that', 'would', 'facilitate', 'the', 'aggregation', 'of', 'cyber', 'security', 'information', 'from', 'multiple', 'sources', 'and', 'the', 'dissemination', 'to', 'the', 'users', 'in', 'a', 'n', 'easy', 'to', 'digest', 'and', 'int', 'eractive', 'manner', '.', 'Lecturing', 'Data', 'Services', 'Engineering', 'COMP9321', 'course', 'in', 'CSE', ',', 'UNSW', 'where', 'I', 'teach', 'students', 'to', ':', 'work', 'with', 'data', 'using', 'Python', ',', 'Pandas', ',', 'Numpy', ';', 'publish', 'ing', 'data', 'securely', 'as', 'a', 'REST', 'API', 'using', 'Fl', 'a', 'sk', ';', 'and', 'apply', 'machine', 'learning', 'with', 'scikit', '-', 'learn', '.', 'Casua', 'l', 'Academic', ',', 'UNSW', 'Australia', '(', '2014', '-', '2018', ')', 'Tutor', ',', 'Mentor', 'and', 'Course', 'Administrator', 'Mentoring', 'students', 'in', 'project', '-', 'based', 'courses', 'and', 'acting', 'as', 'the', 'scrum', 'master', 'for', 'the', 'team', '.', 'Course', 'admin', 'for', 'many', 'courses', '.', 'Organizing', 'the', 'course', 'activities', 'and', 'coordinating', 'with', 'the', 'students', ',', 'tutors', ',', 'guest', 'lecturers', 'and', 'university', 'staff', '.', 'IT', 'Manager/Deputy', 'IT', 'Director', ',', 'Capital', 'Bank', 'group/National', 'Bank', 'of', 'Iraq', '(', '20', '1', '0', '-', '1', '3', ')', 'Accountable', 'for', 'the', 'Bank', 'wide', 'IT', 'environment', ':', 'Led', 'the', 'interbranch', 'network', 'upgrade', 'project', '.', 'Led', 'the', 'IT', 'infrastructure', 'upgrade', 'project', 'implementing', 'Active', 'D', 'irectory', 'services', ',', 'FTMG', ',', 'and', 'file', 'servers', '.', 'Developed', 'the', 'IT', 'strategy', 'for', 'the', 'years', '2011', '-', '2013', '.', 'Used', 'tools', 'like', 'SolarWinds', 'Security', 'Event', 'manager', 'for', 'monitoring', 'and', 'detection', '.', 'Establish', 'ed', 'the', 'Incident', 'Response', 'lifecycle', 'using', 'NIST', '800', '-', '61', 'guide', 'Maintained', '.', 'Performed', 'technology', 'vendors', 'management', '(', 'Infrastructure', ',', 'banking', 'system', 'support', ',', 'card', 'services', ')', 'System', 'Administrator', ',', 'Trade', 'Bank', 'of', 'Iraq', '(', '20', '09', '-', '1', '0', ')', 'Led', 'the', 'Mysis', 'Equation', 'B', 'ranch', 'A', 'utomation', '(', 'EBA', ')', 'project', 'implementation', ',', 'and', 'AD', 'project', 'implementation', '.', 'Involved', 'in', 'the', 'planning', 'and', 'initiation', 'of', 'TBI', 'regional', 'DR', 'site', 'and', 'data', 'recovery', 'appliance', 's', '.', 'Administrating', 'M', 'ysis', 'Equation', ',', 'EBA', ',', 'MM4', 'and', 'TI+', 'systems', '.', 'Developing', 'and', 'implementing', 'the', 'Core', 'banking', 'system', 'security', 'policy', 'Auditing', 'and', 'revision', 'of', 'the', 'information', 'security', 'policies', '.', 'SKILLS', 'Knowledge', 'in', 'Software', 'Systems', 'Vulnerabilities', '.', 'Knowledge', 'in', 'Vulnerability', 'Responsible', 'Disclosure', '(', 'ISO/IEC', '29147', ')', 'Knowledge', 'in', 'V', 'ulnerability', 'management', '(', 'ISO', '27001', 'control', 'A.12.6.1', ')', '.', 'Familiar', 'with', 'various', 'security', 'tools', 'frameworks', 'and', 'services', '(', 'e.g.', ',', 'nmap', ',', 'Mitre', 'Att', '&', 'ck', ',', 'Burp', 'Suite', ',', 'VirusTotal', ',', 'and', 'Maltego', ')', 'Experience', 'working', 'with', 'SI', 'E', 'M', 'solutions', '(', 'Solar', 'Winds', 'Security', 'Event', 'manager', 'and', 'Alien', 'Vault', 'OSSIM', ')', 'Experience', 'working', 'with', 'firewalls', '(', 'Cisco', 'ASA', ')', 'and', 'endpoint', 'security', 'solutions', '(', 'McAfee', 'Endpoint', 'Security', ')', 'Linux', 'and', 'Windows', 'Systems', 'Administration', 'Waterfall', '/', 'agile', 'delivery', 'methodology', 'Data', 'Analysis', '&', 'Machine', 'Learning', 'Conversational', 'AI', '(', 'ChatBots', ')', 'HIGHLIGHTS', 'Perceived', 'a', 'disaster', 'as', 'opportunities', 'as', 'I', 'have', 'taken', 'charge', 'of', 'some', 'university', 'courses', 'with', 'student', 'satisfaction', 'level', 'less', 'than', '60', '%', 'and', 'turned', 'it', 'to', 'over', '90', '%', 'satisfaction', '.', 'Automated', 'course', 'administration', 'tasks', 'using', 'cognitive', 'services', 'and', 'containerization', 'technologies', '.', 'Led', 'infrastructure', 'projects', 'in', 'banks', 'and', 'telecommunication', 'Assessed', 'Information', 'Technology', 'environments', 'and', 'provided', 'actions', 'plans', 'and', 'road', 'maps', 'SOA', 'and', 'Microservices', 'Enthusiast']\n"
     ]
    }
   ],
   "source": [
    "import nltk\n",
    "nltk.download('punkt')\n",
    "nltk.download('wordnet')\n",
    "from nltk import sent_tokenize, word_tokenize\n",
    "from nltk.stem.snowball import SnowballStemmer\n",
    "from nltk.stem.wordnet import WordNetLemmatizer\n",
    "from nltk.corpus import stopwords\n",
    "import pandas as pd\n",
    "import numpy as np\n",
    "import re \n",
    "\n",
    "words = word_tokenize(first_page.extractText())\n",
    "print(words)"
   ]
  },
  {
   "cell_type": "code",
   "execution_count": 8,
   "id": "brown-reply",
   "metadata": {},
   "outputs": [
    {
     "name": "stdout",
     "output_type": "stream",
     "text": [
      "<FreqDist with 347 samples and 632 outcomes>\n"
     ]
    }
   ],
   "source": [
    "from nltk.probability import FreqDist\n",
    "fdist = FreqDist(words)\n",
    "print(fdist)"
   ]
  },
  {
   "cell_type": "code",
   "execution_count": 9,
   "id": "functional-manufacturer",
   "metadata": {},
   "outputs": [
    {
     "data": {
      "text/plain": [
       "[('and', 33),\n",
       " (',', 26),\n",
       " ('.', 22),\n",
       " ('the', 20),\n",
       " ('(', 14),\n",
       " (')', 14),\n",
       " ('-', 11),\n",
       " ('security', 11),\n",
       " ('in', 10),\n",
       " ('with', 9),\n",
       " ('of', 9),\n",
       " ('to', 7),\n",
       " ('for', 7),\n",
       " (':', 6),\n",
       " ('IT', 6),\n",
       " ('services', 6),\n",
       " ('project', 6),\n",
       " ('Security', 5),\n",
       " ('using', 5),\n",
       " ('a', 4)]"
      ]
     },
     "execution_count": 9,
     "metadata": {},
     "output_type": "execute_result"
    }
   ],
   "source": [
    "fdist.most_common(20)"
   ]
  },
  {
   "cell_type": "code",
   "execution_count": null,
   "id": "median-company",
   "metadata": {},
   "outputs": [],
   "source": []
  }
 ],
 "metadata": {
  "kernelspec": {
   "display_name": "Python 3",
   "language": "python",
   "name": "python3"
  },
  "language_info": {
   "codemirror_mode": {
    "name": "ipython",
    "version": 3
   },
   "file_extension": ".py",
   "mimetype": "text/x-python",
   "name": "python",
   "nbconvert_exporter": "python",
   "pygments_lexer": "ipython3",
   "version": "3.7.9"
  }
 },
 "nbformat": 4,
 "nbformat_minor": 5
}
